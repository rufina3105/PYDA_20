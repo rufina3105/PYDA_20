{
  "nbformat": 4,
  "nbformat_minor": 0,
  "metadata": {
    "colab": {
      "name": "Для Руфины.ipynb",
      "provenance": [],
      "collapsed_sections": []
    },
    "kernelspec": {
      "name": "python3",
      "display_name": "Python 3"
    },
    "language_info": {
      "name": "python"
    }
  },
  "cells": [
    {
      "cell_type": "code",
      "metadata": {
        "id": "gGTf45LiIkOa"
      },
      "source": [
        "directories = {\n",
        " '1': ['2207 876234', '11-2'],\n",
        " '2': ['10006'],\n",
        " '3': []\n",
        "}"
      ],
      "execution_count": 2,
      "outputs": []
    },
    {
      "cell_type": "code",
      "metadata": {
        "id": "aF9Il2S6Im7g"
      },
      "source": [
        "documents = [\n",
        " {'type': 'passport', 'number': '2207 876234', 'name': 'Василий Гупкин'},\n",
        " {'type': 'invoice', 'number': '11-2', 'name': 'Геннадий Покемонов'},\n",
        " {'type': 'insurance', 'number': '10006', 'name': 'Аристарх Павлов'}\n",
        "]"
      ],
      "execution_count": 3,
      "outputs": []
    },
    {
      "cell_type": "code",
      "metadata": {
        "colab": {
          "base_uri": "https://localhost:8080/"
        },
        "id": "ZMkZ0edhIs57",
        "outputId": "e1d6611d-591f-4245-f825-bc54b98f2d89"
      },
      "source": [
        "#Пользователь по команде “as” может добавить новую полку\n",
        "def new_p():\n",
        "    nomer_d = input('Введите номер полки: ')\n",
        "    new_p_d = []\n",
        "    i = 0  \n",
        "    for key, value in directories.items():\n",
        "        new_p_d += [int(key)]\n",
        "        if nomer_d == key:\n",
        "            i = 1\n",
        "    if i == 1:\n",
        "        print(f'Такая полка уже существует. Текущий перечень полок: {new_p_d}')\n",
        "    else:\n",
        "        print(f'Полка добавлена. Текущий перечень полок: {new_p_d + list([int(nomer_d)])}')\n",
        "        directories[nomer_d] = []\n",
        "        \n",
        "    print(directories.keys())\n",
        "    \n",
        "    \n",
        "new_p()\n",
        "\n"
      ],
      "execution_count": 19,
      "outputs": [
        {
          "output_type": "stream",
          "text": [
            "Введите номер полки: 4\n",
            "Полка добавлена. Текущий перечень полок: [1, 2, 3, 5, 6, 7, 9, 10, 4]\n",
            "dict_keys(['1', '2', '3', '5', '6', '7', '9', '10', '4'])\n"
          ],
          "name": "stdout"
        }
      ]
    },
    {
      "cell_type": "code",
      "metadata": {
        "colab": {
          "base_uri": "https://localhost:8080/"
        },
        "id": "koumEzJPNG1y",
        "outputId": "b6c872db-fda1-47db-955a-6ab8dc2aa2e2"
      },
      "source": [
        "#Пользователь по команде “ds” может удалить существующую полку из данных (только если она пустая)\n",
        "def old_del():\n",
        "    nomer_d = input('Введите номер полки:')\n",
        "    new_p_d = []\n",
        "    i = 0  \n",
        "    n = 0  \n",
        "    for key, value in directories.items():\n",
        "        \n",
        "        if nomer_d == key and len(value) > 0:\n",
        "            i = 1            \n",
        "        elif nomer_d == key:\n",
        "            n = 1\n",
        "        else:\n",
        "            new_p_d += [int(key)]\n",
        "    \n",
        "    if i == 1:\n",
        "        print(f'На полке есть документы, удалите их перед удалением полки. Текущий перечень полок: {new_p_d}')\n",
        "    elif n == 1:\n",
        "        print(f'Полка удалена. Текущий перечень полок: {new_p_d}')    \n",
        "        del(directories[nomer_d])\n",
        "    else:\n",
        "        print(f'Такой полки не существует. Текущий перечень полок: {new_p_d}')\n",
        "        \n",
        "    print(directories.keys())\n",
        "    \n",
        "old_del()"
      ],
      "execution_count": 23,
      "outputs": [
        {
          "output_type": "stream",
          "text": [
            "Введите номер полки:4\n",
            "Полка удалена. Текущий перечень полок: [1, 2, 3, 5, 6, 7, 9, 10]\n",
            "dict_keys(['1', '2', '3', '5', '6', '7', '9', '10'])\n"
          ],
          "name": "stdout"
        }
      ]
    },
    {
      "cell_type": "code",
      "metadata": {
        "id": "Cpl00PYROo9g"
      },
      "source": [
        "    while True:\n",
        "        command = input('Введите команду:')\n",
        "        if command == 'p':\n",
        "            nomer()\n",
        "        elif command == 's':\n",
        "            polka()\n",
        "        elif command == 'l':\n",
        "            vce()\n",
        "        elif command == 'ads':\n",
        "            new_p()\n",
        "        elif command == 'ds':\n",
        "            old_del()\n",
        "        elif command == 'q':\n",
        "            break\n",
        "        else:\n",
        "            print('Команда не найдена')"
      ],
      "execution_count": null,
      "outputs": []
    }
  ]
}