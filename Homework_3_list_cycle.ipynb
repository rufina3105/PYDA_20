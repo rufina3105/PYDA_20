{
 "cells": [
  {
   "cell_type": "markdown",
   "metadata": {},
   "source": [
    "# Домашнее задание к лекции “Введение в типы данных и циклы. Часть 2”\n",
    "## Задание 1\n",
    "Дана переменная, в которой хранится словарь, содержащий гео-метки для каждого пользователя (пример структуры данных приведен ниже). Вам необходимо написать программу, которая выведет на экран множество уникальных гео-меток всех пользователей.\n",
    "\n",
    "Пример работы программы:\n",
    "\n",
    "ids = {‘user1’: [213, 213, 213, 15, 213], ‘user2’: [54, 54, 119, 119, 119], ‘user3’: [213, 98, 98, 35]} Результат: {98, 35, 15, 213, 54, 119}"
   ]
  },
  {
   "cell_type": "code",
   "execution_count": 1,
   "metadata": {},
   "outputs": [
    {
     "name": "stdout",
     "output_type": "stream",
     "text": [
      "{98, 35, 15, 213, 54, 119}\n"
     ]
    }
   ],
   "source": [
    "ids = {'user1': [213, 213, 213, 15, 213],\n",
    "'user2': [54, 54, 119, 119, 119],\n",
    "'user3': [213, 98, 98, 35]}\n",
    "\n",
    "user = ids.values()\n",
    "#for user_x in user:\n",
    "geo = sum(user, [])\n",
    "print(set(geo))"
   ]
  },
  {
   "cell_type": "markdown",
   "metadata": {},
   "source": [
    "## Задание 2\n",
    "Дана переменная, в которой хранится список поисковых запросов пользователя (пример структуры данных приведен ниже). Вам необходимо написать программу, которая выведет на экран распределение количества слов в запросах в требуемом виде.\n",
    "\n",
    "Пример работы программы:\n",
    "\n",
    "queries = [\n",
    "‘смотреть сериалы онлайн’,\n",
    "‘новости спорта’,\n",
    "‘афиша кино’,\n",
    "‘курс доллара’,\n",
    "‘сериалы этим летом’,\n",
    "‘курс по питону’,\n",
    "‘сериалы про спорт’,\n",
    "]\n",
    "Результат:\n",
    "\n",
    "Поисковых запросов, содержащих 2 слов(а): 42.86%\n",
    "Поисковых запросов, содержащих 3 слов(а): 57.14%"
   ]
  },
  {
   "cell_type": "code",
   "execution_count": 11,
   "metadata": {},
   "outputs": [
    {
     "name": "stdout",
     "output_type": "stream",
     "text": [
      "Поисковых запросов из 3 слова: 57.14%\n",
      "Поисковых запросов из 2 слова: 42.86%\n"
     ]
    }
   ],
   "source": [
    "#Признаюсь, погуглила. Зачем там update? Здесь \n",
    "#https://ru.stackoverflow.com/questions/1055200/%d0%9f%d1%80%d0%be%d0%b2%d0%b5%d1%80%d1%8f%d1%82%d1%8c-%d0%b2-%d1%81%d0%bb%d0%be%d0%b2%d0%b0%d1%80%d0%b5-%d1%81%d1%83%d1%89%d0%b5%d1%81%d1%82%d0%b2%d0%be%d0%b2%d0%b0%d0%bd%d0%b8%d0%b5-%d1%8d%d0%bb%d0%b5%d0%bc%d0%b5%d0%bd%d1%82%d0%b0-python/1055208#1055208 \n",
    "#правильно сказано: «... update() обновит поля на нужные значения.»?\n",
    "\n",
    "queries = ['смотреть сериалы онлайн', 'новости спорта', 'афиша кино', 'курс доллара', 'сериалы этим летом', 'курс по питону', 'сериалы про спорт'] \n",
    "\n",
    "new_queries = {}\n",
    "\n",
    "for word in queries:\n",
    "    words = word.split()\n",
    "\n",
    "    if len(words) in new_queries.keys():\n",
    "        new_queries[len(words)] += 1\n",
    "    else:\n",
    "        new_queries.update({len(words): 1})\n",
    "\n",
    "for key, value in new_queries.items():\n",
    "    percent = round((value / len(queries)) * 100, 2)\n",
    "    print(f'Поисковых запросов из {key} слова: {percent}%')\n"
   ]
  },
  {
   "cell_type": "markdown",
   "metadata": {},
   "source": [
    "## Задание 3\n",
    "Дана переменная, в которой хранится информация о затратах и доходе рекламных кампаний по различным источникам. Необходимо дополнить исходную структуру показателем ROI, который рассчитаем по формуле: (revenue / cost - 1) * 100\n",
    "\n",
    "Пример работы программы:\n",
    "\n",
    "results = { ‘vk’: {‘revenue’: 103, ‘cost’: 98}, ‘yandex’: {‘revenue’: 179, ‘cost’: 153}, ‘facebook’: {‘revenue’: 103, ‘cost’: 110}, ‘adwords’: {‘revenue’: 35, ‘cost’: 34}, ‘twitter’: {‘revenue’: 11, ‘cost’: 24}, } Результат:\n",
    "\n",
    "{‘adwords’: {‘ROI’: 2.94, ‘cost’: 34, ‘revenue’: 35}, ‘facebook’: {‘ROI’: -6.36, ‘cost’: 110, ‘revenue’: 103}, ‘twitter’: {‘ROI’: -54.17, ‘cost’: 24, ‘revenue’: 11}, ‘vk’: {‘ROI’: 5.1, ‘cost’: 98, ‘revenue’: 103}, ‘yandex’: {‘ROI’: 16.99, ‘cost’: 153, ‘revenue’: 179}}"
   ]
  },
  {
   "cell_type": "code",
   "execution_count": 26,
   "metadata": {},
   "outputs": [
    {
     "name": "stdout",
     "output_type": "stream",
     "text": [
      "[('adwords', {'revenue': 35, 'cost': 34, 'ROI': 2.94}), ('facebook', {'revenue': 103, 'cost': 110, 'ROI': -6.36}), ('twitter', {'revenue': 11, 'cost': 24, 'ROI': -54.17}), ('vk', {'revenue': 103, 'cost': 98, 'ROI': 5.1}), ('yandex', {'revenue': 179, 'cost': 153, 'ROI': 16.99})]\n"
     ]
    }
   ],
   "source": [
    "results = { 'vk': {'revenue': 103, 'cost': 98}, 'yandex': {'revenue': 179, 'cost': 153}, 'facebook': {'revenue': 103, 'cost': 110}, 'adwords': {'revenue': 35, 'cost': 34}, 'twitter': {'revenue': 11, 'cost': 24}, }\n",
    "\n",
    "for key, value in results.items():\n",
    "    value['ROI'] = round(((value['revenue'] / value['cost']) - 1)*100 , 2)\n",
    "\n",
    "print(sorted(results.items()))"
   ]
  },
  {
   "cell_type": "markdown",
   "metadata": {},
   "source": [
    "## Задание 4\n",
    "Дана переменная, в которой хранится статистика рекламных каналов по объемам продаж (пример структуры данных приведен ниже). Напишите программу, которая возвращает название канала с максимальным объемом продаж.\n",
    "\n",
    "Пример работы программы:\n",
    "\n",
    "stats = {‘facebook’: 55, ‘yandex’: 115, ‘vk’: 120, ‘google’: 99, ‘email’: 42, ‘ok’: 98}\n",
    "\n",
    "Результат: Максимальный объем продаж на рекламном канале: vk"
   ]
  },
  {
   "cell_type": "code",
   "execution_count": 54,
   "metadata": {},
   "outputs": [
    {
     "name": "stdout",
     "output_type": "stream",
     "text": [
      "Максимальный объем продаж на рекламном канале: yandex\n"
     ]
    }
   ],
   "source": [
    "# ПочЕму считАет по ключу, перебраЛа разные варианты, на значение никАк не выйду. Что нЕ так?\n",
    "\n",
    "stats = {'facebook': 55, 'yandex': 115, 'vk': 120, 'google': 99, 'email': 42, 'ok': 98}\n",
    "\n",
    "\n",
    "for value in stats:\n",
    "    value = max(stats)\n",
    "print('Максимальный объем продаж на рекламном канале:', value)"
   ]
  },
  {
   "cell_type": "code",
   "execution_count": 15,
   "metadata": {},
   "outputs": [
    {
     "name": "stdout",
     "output_type": "stream",
     "text": [
      "Максимальный объем продаж на рекламном канале: vk\n"
     ]
    }
   ],
   "source": [
    "stats = {'facebook': 55, 'yandex': 115, 'vk': 120, 'google': 99, 'email': 42, 'ok': 98}\n",
    "\n",
    "res = [(value, key) for key, value in stats.items()]\n",
    "res_1 = max(res)[1]\n",
    "\n",
    "print('Максимальный объем продаж на рекламном канале:', res_1)"
   ]
  },
  {
   "cell_type": "code",
   "execution_count": null,
   "metadata": {},
   "outputs": [],
   "source": []
  }
 ],
 "metadata": {
  "kernelspec": {
   "display_name": "Python 3",
   "language": "python",
   "name": "python3"
  },
  "language_info": {
   "codemirror_mode": {
    "name": "ipython",
    "version": 3
   },
   "file_extension": ".py",
   "mimetype": "text/x-python",
   "name": "python",
   "nbconvert_exporter": "python",
   "pygments_lexer": "ipython3",
   "version": "3.8.5"
  }
 },
 "nbformat": 4,
 "nbformat_minor": 4
}
