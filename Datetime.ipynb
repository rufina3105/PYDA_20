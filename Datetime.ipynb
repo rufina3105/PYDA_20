{
 "cells": [
  {
   "cell_type": "markdown",
   "metadata": {},
   "source": [
    "# Домашнее задание к лекции «Исключения и обработка ошибок»\n"
   ]
  },
  {
   "cell_type": "markdown",
   "metadata": {},
   "source": [
    "## Задание 1\n",
    "Печатные газеты использовали свой формат дат для каждого выпуска. Для каждой газеты из списка напишите формат указанной даты для перевода в объект datetime:\n",
    "The Moscow Times - Wednesday, October 2, 2002\n",
    "The Guardian - Friday, 11.10.13\n",
    "Daily News - Thursday, 18 August 1977"
   ]
  },
  {
   "cell_type": "code",
   "execution_count": 2,
   "metadata": {},
   "outputs": [],
   "source": [
    "#The Moscow Times - Wednesday, October 2, 2002\n",
    "#The Guardian - Friday, 11.10.13\n",
    "#Daily News - Thursday, 18 August 1977'''\n",
    "\n",
    "from datetime import datetime"
   ]
  },
  {
   "cell_type": "code",
   "execution_count": 20,
   "metadata": {},
   "outputs": [],
   "source": [
    "date_string = 'Wednesday, October 2, 2002'"
   ]
  },
  {
   "cell_type": "code",
   "execution_count": 16,
   "metadata": {},
   "outputs": [
    {
     "data": {
      "text/plain": [
       "datetime.datetime(2002, 10, 2, 0, 0)"
      ]
     },
     "execution_count": 16,
     "metadata": {},
     "output_type": "execute_result"
    }
   ],
   "source": [
    "# Почему день недели не подтягивается в datetime.datetime?\n",
    "\n",
    "from datetime import datetime\n",
    "\n",
    "date_datetime = datetime.strptime('Wednesday, October 2, 2002', '%A, %B %d, %Y')\n",
    "#print('The Moscow Times' ' ' '-' ' ' 'date_datetime')\n",
    "date_datetime"
   ]
  },
  {
   "cell_type": "code",
   "execution_count": 4,
   "metadata": {},
   "outputs": [
    {
     "data": {
      "text/plain": [
       "datetime.datetime(2013, 10, 11, 0, 0)"
      ]
     },
     "execution_count": 4,
     "metadata": {},
     "output_type": "execute_result"
    }
   ],
   "source": [
    "#The Guardian - Friday, 11.10.13\n",
    "date_datetime_g = datetime.strptime('Friday, 11.10.13', '%A, %d.%m.%y')\n",
    "#print('The Guardian' ' ' '-' ' ' 'date_datetime_g')\n",
    "date_datetime_g"
   ]
  },
  {
   "cell_type": "code",
   "execution_count": 5,
   "metadata": {},
   "outputs": [
    {
     "data": {
      "text/plain": [
       "datetime.datetime(1977, 8, 18, 0, 0)"
      ]
     },
     "execution_count": 5,
     "metadata": {},
     "output_type": "execute_result"
    }
   ],
   "source": [
    "#Daily News - Thursday, 18 August 1977\n",
    "date_datetime_d = datetime.strptime('Thursday, 18 August 1977', '%A, %d %B %Y')\n",
    "date_datetime_d"
   ]
  },
  {
   "cell_type": "markdown",
   "metadata": {},
   "source": [
    "## Задание 2\n",
    "Дан поток дат в формате YYYY-MM-DD, в которых встречаются некорректные значения:\n",
    "stream = [‘2018-04-02’, ‘2018-02-29’, ‘2018-19-02’]\n",
    "\n",
    "Напишите функцию, которая проверяет эти даты на корректность. Т. е. для каждой даты возвращает True (дата корректна) или False (некорректная дата)."
   ]
  },
  {
   "cell_type": "code",
   "execution_count": 6,
   "metadata": {},
   "outputs": [],
   "source": [
    "stream = ['2018-04-02', '2018-02-29', '2018-19-02']"
   ]
  },
  {
   "cell_type": "code",
   "execution_count": 7,
   "metadata": {},
   "outputs": [
    {
     "name": "stdout",
     "output_type": "stream",
     "text": [
      "\"2018-04-02\": True Дата корректна\n",
      "\"2018-02-29\": False Дата некорректна\n",
      "\"2018-19-02\": False Дата некорректна\n"
     ]
    }
   ],
   "source": [
    "def p_date(some_date):\n",
    "    try:\n",
    "        datetime.strptime(some_date, '%Y-%m-%d')\n",
    "        return print('\"{}\": {}'.format(some_date, True), 'Дата корректна')\n",
    "    except:\n",
    "        return print('\"{}\": {}'.format(some_date, False), 'Дата некорректна')\n",
    "\n",
    "for dt in stream:\n",
    "    p_date(dt)"
   ]
  },
  {
   "cell_type": "markdown",
   "metadata": {},
   "source": [
    "## Задание 3\n",
    "Напишите функцию date_range, которая возвращает список дат за период от start_date до end_date. Даты должны вводиться в формате YYYY-MM-DD. В случае неверного формата или при start_date > end_date должен возвращаться пустой список."
   ]
  },
  {
   "cell_type": "code",
   "execution_count": 8,
   "metadata": {},
   "outputs": [],
   "source": [
    "from datetime import timedelta"
   ]
  },
  {
   "cell_type": "code",
   "execution_count": 9,
   "metadata": {},
   "outputs": [
    {
     "name": "stdout",
     "output_type": "stream",
     "text": [
      "2021-01-02\n"
     ]
    }
   ],
   "source": [
    "start_date = '2021-01-01'\n",
    "end_date = '2021-04-21'\n",
    "\n",
    "my_start_date = datetime.strptime(start_date, '%Y-%m-%d')\n",
    "my_end_date = datetime.strptime(end_date, '%Y-%m-%d')\n",
    "my_start_date += timedelta(days = 1)\n",
    "\n",
    "while my_start_date <= my_end_date:\n",
    "    print(my_start_date.strftime('%Y-%m-%d'))\n",
    "    my_start_date += timedelta(days = 1)\n",
    "    break"
   ]
  },
  {
   "cell_type": "code",
   "execution_count": 15,
   "metadata": {},
   "outputs": [],
   "source": [
    "# Вы написали: «перевод start_date и end_date в datetime», но ведь в ячейКе выШе уЖе перевела. Можно таК записать в try?\n",
    "\n",
    "def date_range(start_date, end_date):\n",
    "    try:\n",
    "        my_start_date and my_end_date\n",
    "    except:\n",
    "        return []\n",
    "    \n",
    "        while my_start_date <= my_end_date:\n",
    "            return print(my_start_date.strftime('%Y-%m-%d'))\n",
    "            my_start_date += timedelta(days = 1)\n",
    "        else:\n",
    "            my_start_date > my_end_date\n",
    "        return \n",
    "\n",
    "    \n",
    "    "
   ]
  },
  {
   "cell_type": "code",
   "execution_count": null,
   "metadata": {},
   "outputs": [],
   "source": [
    "def date_range(start_date, end_date):  # в функцию передаются даты в строковом формате: '2021-04-21'\n",
    "    try:\n",
    "\t\t    # перевод start_date и end_date в datetime\n",
    "\t\texcept:\n",
    "\t\t    return []"
   ]
  }
 ],
 "metadata": {
  "kernelspec": {
   "display_name": "Python 3",
   "language": "python",
   "name": "python3"
  },
  "language_info": {
   "codemirror_mode": {
    "name": "ipython",
    "version": 3
   },
   "file_extension": ".py",
   "mimetype": "text/x-python",
   "name": "python",
   "nbconvert_exporter": "python",
   "pygments_lexer": "ipython3",
   "version": "3.8.5"
  }
 },
 "nbformat": 4,
 "nbformat_minor": 4
}
